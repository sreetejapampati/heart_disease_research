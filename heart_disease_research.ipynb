{
 "cells": [
  {
   "cell_type": "code",
   "execution_count": 1,
   "id": "efb208d7",
   "metadata": {},
   "outputs": [],
   "source": [
    "import pandas as pd\n",
    "import numpy as np\n",
    "import matplotlib.pyplot as plt \n",
    "import seaborn as sns"
   ]
  },
  {
   "cell_type": "code",
   "execution_count": 2,
   "id": "1ff76197",
   "metadata": {},
   "outputs": [],
   "source": [
    "heart = pd.read_csv('heart_disease.csv')"
   ]
  },
  {
   "cell_type": "code",
   "execution_count": 3,
   "id": "1a28bde5",
   "metadata": {},
   "outputs": [
    {
     "name": "stdout",
     "output_type": "stream",
     "text": [
      "    age     sex  trestbps   chol                cp  exang  fbs  thalach  \\\n",
      "0  63.0    male     145.0  233.0    typical angina    0.0  1.0    150.0   \n",
      "1  67.0    male     160.0  286.0      asymptomatic    1.0  0.0    108.0   \n",
      "2  67.0    male     120.0  229.0      asymptomatic    1.0  0.0    129.0   \n",
      "3  37.0    male     130.0  250.0  non-anginal pain    0.0  0.0    187.0   \n",
      "4  41.0  female     130.0  204.0   atypical angina    0.0  0.0    172.0   \n",
      "\n",
      "  heart_disease  \n",
      "0       absence  \n",
      "1      presence  \n",
      "2      presence  \n",
      "3       absence  \n",
      "4       absence  \n"
     ]
    }
   ],
   "source": [
    "print(heart.head())"
   ]
  },
  {
   "cell_type": "code",
   "execution_count": 4,
   "id": "0b542571",
   "metadata": {},
   "outputs": [],
   "source": [
    "thalach = heart.thalach"
   ]
  },
  {
   "cell_type": "code",
   "execution_count": 5,
   "id": "4b074cd9",
   "metadata": {},
   "outputs": [
    {
     "data": {
      "image/png": "[encoded data removed]",
      "text/plain": [
       "<Figure size 432x288 with 1 Axes>"
      ]
     },
     "metadata": {
      "needs_background": "light"
     },
     "output_type": "display_data"
    }
   ],
   "source": [
    "sns.boxplot(x=thalach, y=heart.heart_disease)\n",
    "plt.show()"
   ]
  },
  {
   "cell_type": "code",
   "execution_count": 6,
   "id": "cf79836e",
   "metadata": {},
   "outputs": [],
   "source": [
    "thalach_hd = thalach[heart.heart_disease == \"presence\"]\n",
    "thalach_no_hd = thalach[heart.heart_disease == \"absence\"]"
   ]
  },
  {
   "cell_type": "code",
   "execution_count": 7,
   "id": "16ca5a22",
   "metadata": {},
   "outputs": [
    {
     "name": "stdout",
     "output_type": "stream",
     "text": [
      "thalach mean difference: 19.11905597473242\n",
      "thalach median difference: 19.0\n"
     ]
    }
   ],
   "source": [
    "difference_mean_thalach = np.mean(thalach_no_hd) - np.mean(thalach_hd)\n",
    "print(\"thalach mean difference: {}\"\n",
    ".format(difference_mean_thalach))\n",
    "\n",
    "\n",
    "difference_median_thalach = np.median(thalach_no_hd) - np.median(thalach_hd)\n",
    "print(\"thalach median difference: {}\"\n",
    ".format(difference_median_thalach))"
   ]
  },
  {
   "cell_type": "code",
   "execution_count": 8,
   "id": "d536a266",
   "metadata": {},
   "outputs": [],
   "source": [
    "from scipy.stats import ttest_ind"
   ]
  },
  {
   "cell_type": "code",
   "execution_count": 9,
   "id": "27101349",
   "metadata": {},
   "outputs": [
    {
     "name": "stdout",
     "output_type": "stream",
     "text": [
      "3.456964908430172e-14\n",
      "Since the pval is less than our significant threshold of 0.05, we reject the null hypothesis and conclude that there is a significant difference in thalach for people with heart disease compared to people without heart disease\n"
     ]
    }
   ],
   "source": [
    "tstat_thalach, pval_thalach = ttest_ind(thalach_hd, thalach_no_hd)\n",
    "\n",
    "print(pval_thalach)\n",
    "\n",
    "if pval_thalach < 0.05:\n",
    "  print(\"Since the pval is less than our significant threshold of 0.05, we reject the null hypothesis and conclude that there is a significant difference in thalach for people with heart disease compared to people without heart disease\")\n",
    "else:\n",
    "  print(\"There is no significant difference\")"
   ]
  },
  {
   "cell_type": "markdown",
   "id": "8d6a1da2",
   "metadata": {},
   "source": [
    "resting blood pressure in mm Hg:"
   ]
  },
  {
   "cell_type": "code",
   "execution_count": 10,
   "id": "748ec831",
   "metadata": {},
   "outputs": [],
   "source": [
    "trestbps = heart.trestbps\n",
    "trestbps_hd = trestbps[heart.heart_disease == \"presence\"]\n",
    "trestbps_no_hd = trestbps[heart.heart_disease == \"absence\"]\n"
   ]
  },
  {
   "cell_type": "code",
   "execution_count": 11,
   "id": "db63dde2",
   "metadata": {},
   "outputs": [
    {
     "data": {
      "image/png": "[encoded data removed]",
      "text/plain": [
       "<Figure size 432x288 with 1 Axes>"
      ]
     },
     "metadata": {
      "needs_background": "light"
     },
     "output_type": "display_data"
    }
   ],
   "source": [
    "plt.clf()\n",
    "sns.boxplot(x=heart.heart_disease, y=heart.trestbps)\n",
    "plt.show()"
   ]
  },
  {
   "cell_type": "code",
   "execution_count": 12,
   "id": "99f2dea1",
   "metadata": {},
   "outputs": [
    {
     "name": "stdout",
     "output_type": "stream",
     "text": [
      "trestbps mean difference: -5.318345323740999\n",
      "trestbps median difference: 0.0\n"
     ]
    }
   ],
   "source": [
    "difference_mean_trestbps = np.mean(trestbps_no_hd) - np.mean(trestbps_hd)\n",
    "print(\"trestbps mean difference: {}\"\n",
    ".format(difference_mean_trestbps))\n",
    "\n",
    "\n",
    "difference_median_trestbps = np.median(trestbps_no_hd) - np.median(trestbps_hd)\n",
    "print(\"trestbps median difference: {}\"\n",
    ".format(difference_median_trestbps))"
   ]
  },
  {
   "cell_type": "code",
   "execution_count": 13,
   "id": "caa6c40b",
   "metadata": {},
   "outputs": [
    {
     "name": "stdout",
     "output_type": "stream",
     "text": [
      "0.008548268928594928\n",
      "Since the pval is less than our significant threshold of 0.05, we reject the null hypothesis and conclude that there is a significant difference in trestbps for people with heart disease compared to people without heart disease\n"
     ]
    }
   ],
   "source": [
    "tstat_trestbps, pval_trestbps = ttest_ind(trestbps_hd, trestbps_no_hd)\n",
    "print(pval_trestbps)\n",
    "\n",
    "if pval_trestbps < 0.05:\n",
    "  print(\"Since the pval is less than our significant threshold of 0.05, we reject the null hypothesis and conclude that there is a significant difference in trestbps for people with heart disease compared to people without heart disease\")\n",
    "else:\n",
    "  print(\"There is no significant difference\")"
   ]
  },
  {
   "cell_type": "markdown",
   "id": "0c887ca9",
   "metadata": {},
   "source": [
    "Chest Pain:"
   ]
  },
  {
   "cell_type": "code",
   "execution_count": 14,
   "id": "b1f9af63",
   "metadata": {},
   "outputs": [
    {
     "data": {
      "image/png": "[encoded data removed]",
      "text/plain": [
       "<Figure size 432x288 with 1 Axes>"
      ]
     },
     "metadata": {
      "needs_background": "light"
     },
     "output_type": "display_data"
    }
   ],
   "source": [
    "plt.clf()\n",
    "sns.boxplot(x=thalach, y=heart.cp)\n",
    "plt.show()\n"
   ]
  },
  {
   "cell_type": "code",
   "execution_count": 15,
   "id": "eeb354af",
   "metadata": {},
   "outputs": [],
   "source": [
    "thalach_typical = thalach[heart.cp == \"typical angina\"]\n",
    "thalach_aymptom = thalach[heart.cp == \"asymptomatic\"]\n",
    "thalach_nonangin = thalach[heart.cp == \"non-anginal pain\"]\n",
    "thalach_atypical = thalach[heart.cp == \"atypical angina\"]"
   ]
  },
  {
   "cell_type": "markdown",
   "id": "ebabf253",
   "metadata": {},
   "source": [
    "a single hypothesis test to address the following null and alternative hypotheses:\n",
    "\n",
    "Null: People with typical angina, non-anginal pain, atypical angina, and asymptomatic people all have the same average thalach.\n",
    "\n",
    "\n",
    "Alternative: People with typical angina, non-anginal pain, atypical angina, and asymptomatic people do not all have the same average thalach."
   ]
  },
  {
   "cell_type": "code",
   "execution_count": 16,
   "id": "0d2012d2",
   "metadata": {},
   "outputs": [],
   "source": [
    "from scipy.stats import f_oneway\n"
   ]
  },
  {
   "cell_type": "code",
   "execution_count": 18,
   "id": "be0310cb",
   "metadata": {},
   "outputs": [
    {
     "name": "stdout",
     "output_type": "stream",
     "text": [
      "1.9065505247705008e-10\n",
      "There is at least one at least one pair of chest pain categories for which people in those categories have significantly different thalach\n"
     ]
    }
   ],
   "source": [
    "Fstat, pval = f_oneway(thalach_typical, thalach_aymptom, thalach_nonangin, thalach_atypical)\n",
    "print(pval)\n",
    "if pval < 0.05:\n",
    "    print(\"There is at least one at least one pair of chest pain categories for which people in those categories have significantly different thalach\")\n",
    "else:\n",
    "    print(\"there are no pairs of chest pain categories for which people in those categories have significantly different thalach\")"
   ]
  },
  {
   "cell_type": "markdown",
   "id": "f85cf6c4",
   "metadata": {},
   "source": [
    "determining which of those pairs are significantly different"
   ]
  },
  {
   "cell_type": "code",
   "execution_count": 19,
   "id": "1e7d0330",
   "metadata": {},
   "outputs": [],
   "source": [
    "from statsmodels.stats.multicomp import pairwise_tukeyhsd"
   ]
  },
  {
   "cell_type": "code",
   "execution_count": 20,
   "id": "f6a95b43",
   "metadata": {},
   "outputs": [
    {
     "name": "stdout",
     "output_type": "stream",
     "text": [
      "           Multiple Comparison of Means - Tukey HSD, FWER=0.05           \n",
      "=========================================================================\n",
      "     group1           group2      meandiff p-adj   lower    upper  reject\n",
      "-------------------------------------------------------------------------\n",
      "    asymptomatic  atypical angina  21.7394  0.001  12.7439  30.735   True\n",
      "    asymptomatic non-anginal pain  14.7264  0.001    7.258 22.1948   True\n",
      "    asymptomatic   typical angina   15.276 0.0081   2.9702 27.5817   True\n",
      " atypical angina non-anginal pain   -7.013 0.2481 -16.7591   2.733  False\n",
      " atypical angina   typical angina  -6.4635 0.6069 -20.2707  7.3438  False\n",
      "non-anginal pain   typical angina   0.5495    0.9  -12.315 13.4141  False\n",
      "-------------------------------------------------------------------------\n"
     ]
    }
   ],
   "source": [
    "results = pairwise_tukeyhsd(endog = heart.thalach, groups = heart.cp)\n",
    "print(results)"
   ]
  },
  {
   "cell_type": "markdown",
   "id": "acc0e080",
   "metadata": {},
   "source": [
    "for any pair with \"True\" we can conclude that people with those chest pain types have significantly different maximum heart rates during exercise"
   ]
  },
  {
   "cell_type": "markdown",
   "id": "7bba0601",
   "metadata": {},
   "source": [
    "relationship between the kind of chest pain a person experiences and whether or not they have heart disease: "
   ]
  },
  {
   "cell_type": "code",
   "execution_count": 21,
   "id": "98fe51e8",
   "metadata": {},
   "outputs": [
    {
     "name": "stdout",
     "output_type": "stream",
     "text": [
      "heart_disease     absence  presence\n",
      "cp                                 \n",
      "asymptomatic           39       105\n",
      "atypical angina        41         9\n",
      "non-anginal pain       68        18\n",
      "typical angina         16         7\n"
     ]
    }
   ],
   "source": [
    "Xtab = pd.crosstab(heart.cp, heart.heart_disease)\n",
    "print(Xtab)"
   ]
  },
  {
   "cell_type": "code",
   "execution_count": 23,
   "id": "eca9b64a",
   "metadata": {},
   "outputs": [
    {
     "name": "stdout",
     "output_type": "stream",
     "text": [
      "p-value for chi-square test:  1.2517106007837527e-17\n",
      "There is a significant association between chest pain type and whether or not someone is diagnosed with heart disease\n"
     ]
    }
   ],
   "source": [
    "from scipy.stats import chi2_contingency\n",
    "chi2, pval, dof, exp = chi2_contingency(Xtab)\n",
    "print('p-value for chi-square test: ', pval)\n",
    "if pval < 0.05:\n",
    "    print(\"There is a significant association between chest pain type and whether or not someone is diagnosed with heart disease\")"
   ]
  },
  {
   "cell_type": "code",
   "execution_count": null,
   "id": "4c0ff718",
   "metadata": {},
   "outputs": [],
   "source": []
  }
 ],
 "metadata": {
  "kernelspec": {
   "display_name": "Python 3 (ipykernel)",
   "language": "python",
   "name": "python3"
  },
  "language_info": {
   "codemirror_mode": {
    "name": "ipython",
    "version": 3
   },
   "file_extension": ".py",
   "mimetype": "text/x-python",
   "name": "python",
   "nbconvert_exporter": "python",
   "pygments_lexer": "ipython3",
   "version": "3.9.7"
  }
 },
 "nbformat": 4,
 "nbformat_minor": 5
}
